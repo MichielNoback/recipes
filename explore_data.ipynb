{
 "cells": [
  {
   "cell_type": "code",
   "execution_count": 2,
   "id": "566baa65",
   "metadata": {},
   "outputs": [],
   "source": [
    "import numpy as np\n",
    "import pandas as pd\n",
    "import dashboard\n",
    "import utils"
   ]
  },
  {
   "cell_type": "code",
   "execution_count": 3,
   "id": "b314b787",
   "metadata": {},
   "outputs": [
    {
     "data": {
      "text/plain": [
       "['sweet', 'creamy', 'caramel', 'lactonic', 'brown']"
      ]
     },
     "execution_count": 3,
     "metadata": {},
     "output_type": "execute_result"
    }
   ],
   "source": [
    "def parse_list_col(x: str) -> list[str]:\n",
    "    x = x.replace('{', '[').replace('}', ']')\n",
    "    return eval(x)\n",
    "\n",
    "test_data = \"{'sweet', 'creamy', 'caramel', 'lactonic', 'brown'}\"\n",
    "parse_list_col(test_data)\n"
   ]
  },
  {
   "cell_type": "markdown",
   "id": "c72b0134",
   "metadata": {},
   "source": [
    "## Read in the molecules data file"
   ]
  },
  {
   "cell_type": "code",
   "execution_count": 3,
   "id": "b320808f",
   "metadata": {},
   "outputs": [
    {
     "name": "stdout",
     "output_type": "stream",
     "text": [
      "   pubchem id                  common name  \\\n",
      "0           4           1-Aminopropan-2-ol   \n",
      "1          49  3-Methyl-2-oxobutanoic acid   \n",
      "2          58           2-oxobutanoic acid   \n",
      "3          70   4-Methyl-2-oxovaleric acid   \n",
      "4          72    3,4-Dihydroxybenzoic Acid   \n",
      "\n",
      "                              flavor profile  \n",
      "0                                    [fishy]  \n",
      "1                                   [fruity]  \n",
      "2  [sweet, creamy, caramel, lactonic, brown]  \n",
      "3                                   [fruity]  \n",
      "4                 [mild, balsamic, phenolic]  \n"
     ]
    }
   ],
   "source": [
    "molecules = pd.read_csv(\"data/flavordb/molecules.csv\", index_col=0)\n",
    "#convert molecules string (\"{'sweet', 'creamy', 'caramel', 'lactonic', 'brown'}\") to list\n",
    "molecules['flavor profile'] = molecules['flavor profile'].apply(parse_list_col)\n",
    "print(molecules.head())\n"
   ]
  },
  {
   "cell_type": "markdown",
   "id": "b1b28bec",
   "metadata": {},
   "source": [
    "## Read the flavordb.csv file\n"
   ]
  },
  {
   "cell_type": "code",
   "execution_count": 4,
   "id": "9d8848e2",
   "metadata": {},
   "outputs": [
    {
     "name": "stdout",
     "output_type": "stream",
     "text": [
      "   entity id            alias                   synonyms scientific name  \\\n",
      "0          1  bakery products          [bakery products]        poacceae   \n",
      "1          2            bread                    [bread]        poacceae   \n",
      "2          3        rye bread                [rye bread]             rye   \n",
      "3          4    wheaten bread  [soda scones, soda farls]           wheat   \n",
      "4          5      white bread              [white bread]           wheat   \n",
      "\n",
      "  category                                          molecules  \n",
      "0   bakery          [27457, 7976, 31252, 26808, 22201, 26331]  \n",
      "1   bakery  [1031, 1032, 644104, 527, 8723, 31260, 15394, ...  \n",
      "2   bakery  [644104, 7824, 643731, 8468, 1049, 5372954, 80...  \n",
      "3   bakery  [6915, 5365891, 12170, 8082, 31251, 7958, 1049...  \n",
      "4   bakery  [7361, 994, 10883, 7362, 11173, 5365891, 11559...  \n"
     ]
    }
   ],
   "source": [
    "flavor_molecules = pd.read_csv(\"data/flavordb/flavordb.csv\", index_col=0)\n",
    "#convert the two list-like columns to list \"{27457, 7976, 31252, 26808, 22201, 26331}\"\n",
    "flavor_molecules['synonyms'] = flavor_molecules['synonyms'].apply(parse_list_col)\n",
    "flavor_molecules['molecules'] = flavor_molecules['molecules'].apply(parse_list_col)\n",
    "\n",
    "print(flavor_molecules.head())\n",
    "#print(flavor_molecules.describe())"
   ]
  },
  {
   "cell_type": "markdown",
   "id": "468c2da1",
   "metadata": {},
   "source": [
    "### New way to load all data"
   ]
  },
  {
   "cell_type": "code",
   "execution_count": 4,
   "id": "8701c65f",
   "metadata": {},
   "outputs": [],
   "source": [
    "config = dashboard.read_config(\"config.ini\")\n",
    "datastore = dashboard.read_all_data(config)"
   ]
  },
  {
   "cell_type": "markdown",
   "id": "14fec907",
   "metadata": {},
   "source": [
    "### Get info on a selected ingredient"
   ]
  },
  {
   "cell_type": "code",
   "execution_count": 5,
   "id": "118d59e7",
   "metadata": {},
   "outputs": [
    {
     "name": "stdout",
     "output_type": "stream",
     "text": [
      "     entity id             alias                     synonyms scientific name  \\\n",
      "932        972  japanese pumpkin  [kabocha, japanese pumpkin]   winter squash   \n",
      "\n",
      "    category                                          molecules  \n",
      "932    fruit  [644104, 527, 8723, 31260, 15394, 6184, 439341...  \n"
     ]
    }
   ],
   "source": [
    "selected_ingredient = 'japanese pumpkin'\n",
    "#datastore.ingredients['alias'] == selected_ingredient\n",
    "ingredient = datastore.ingredients[datastore.ingredients['alias'] == selected_ingredient]\n",
    "print(ingredient)"
   ]
  },
  {
   "cell_type": "code",
   "execution_count": 6,
   "id": "fad0b659",
   "metadata": {},
   "outputs": [
    {
     "name": "stdout",
     "output_type": "stream",
     "text": [
      "count=0, id=644104, name=CID 644104, flavor profile=['very mild', 'grassy']\n",
      "count=1, id=527, name=Propionaldehyde, flavor profile=['nutty', 'cocoa', 'pungent', 'whiskey', 'earthy', 'solvent', 'wine', 'alcohol']\n",
      "count=2, id=8723, name=2-Methyl-1-Butanol, flavor profile=['onion', 'fruity', 'malt', 'wine', 'roasted']\n",
      "count=3, id=31260, name=3-Methyl-1-butanol, flavor profile=['alcoholic', 'burnt', 'whiskey', 'fruity', 'malt', 'fusel', 'banana', 'oil']\n",
      "count=4, id=15394, name=Ethyl Vinyl Ketone, flavor profile=['mustard', 'garlic', 'onion', 'pungent', 'fish', 'peppery']\n",
      "count=5, id=6184, name=Hexanal, flavor profile=['green', 'fresh', 'leafy', 'aldehydic', 'fat', 'fruity', 'grass', 'sweaty', 'tallow', 'fatty']\n",
      "count=6, id=439341, name=alpha-Maltose, flavor profile=['sweet', 'odorless']\n",
      "count=7, id=5365811, name=4-Hexen-3-One, flavor profile=['tropical', 'green', 'pungent', 'metallic', 'spicy', 'ethereal']\n",
      "count=8, id=6202, name=Thiamine Hydrochloride, flavor profile=['mild', 'sour', 'bitter']\n",
      "count=9, id=638011, name=Citral, flavor profile=['sweet', 'lemon', 'mint', 'sharp', 'bitter', 'citrus']\n",
      "count=10, id=61503, name=D-Lactic acid, flavor profile=['acidic', 'odorless']\n",
      "count=11, id=8768, name=3,4-Dihydroxybenzaldehyde, flavor profile=['almond', 'bitter', 'dry', 'medical']\n",
      "count=12, id=637511, name=cinnamaldehyde, flavor profile=['paint', 'sweet', 'spice', 'cinnamon', 'warm', 'red hots', 'candy', 'clove']\n",
      "count=13, id=72, name=3,4-Dihydroxybenzoic Acid, flavor profile=['mild', 'balsamic', 'phenolic']\n",
      "count=14, id=1110, name=succinic acid, flavor profile=['sour', 'odorless']\n",
      "count=15, id=5280343, name=quercetin, flavor profile=['bitter']\n",
      "count=16, id=61020, name=3-Methyl-2-butenal, flavor profile=['nutty', 'sweet', 'pungent', 'fruity', 'cherry', 'almond', 'brown']\n",
      "count=17, id=5280863, name=kaempferol, flavor profile=['bitter']\n",
      "count=18, id=637542, name=p-coumaric acid, flavor profile=['balsam', 'balsamic']\n",
      "count=19, id=1130, name=thiamine, flavor profile=['bitter']\n",
      "count=20, id=6251, name=D-mannitol, flavor profile=['sweet', 'odorless']\n",
      "count=21, id=107, name=3-Phenylpropanoic acid, flavor profile=['sweet', 'cinnamon', 'balsamic', 'rose', 'musk', 'fatty']\n",
      "count=22, id=7284, name=2-Methylbutyraldehyde, flavor profile=['nutty', 'musty', 'cocoa', 'coffee', 'almond']\n",
      "count=23, id=7288, name=3-Pentanone, flavor profile=['ether', 'ethereal', 'acetone']\n",
      "count=24, id=444539, name=Cinnamic Acid, flavor profile=['sweet', 'balsam', 'honey', 'storax']\n",
      "count=25, id=637566, name=Geraniol, flavor profile=['sweet', 'floral', 'fruity', 'rose', 'waxy', 'citrus', 'geranium']\n",
      "count=26, id=126, name=4-hydroxybenzaldehyde, flavor profile=['nutty', 'sweet', 'balsam', 'almond', 'woody']\n",
      "count=27, id=9862, name=6-Methyl-5-Hepten-2-One, flavor profile=['nutty', 'musty', 'green', 'lemongrass', 'apple', 'mushroom', 'hazelnut', 'bitter', 'pepper', 'citrus', 'rubber']\n",
      "count=28, id=650, name=2,3-butanedione, flavor profile=['sweet', 'creamy', 'caramel', 'pungent', 'butter', 'oily', 'strong']\n",
      "count=29, id=33931, name=2-Ethyl-4-hydroxy-5-methyl-3(2H)-furanone, flavor profile=['caramel', 'butterscotch', 'sweet', 'candy']\n",
      "count=30, id=441484, name=alpha-L-Sorbopyranose, flavor profile=['sweet', 'bitter']\n",
      "count=31, id=445070, name=farnesol, flavor profile=['mild', 'anise', 'sweet', 'lily', 'fresh', 'floral', 'angelica', 'muguet', 'orange', 'balsam', 'linden', 'clove', 'pear', 'waxy', 'grapefruit']\n",
      "count=32, id=5284503, name=trans-3-Hexen-1-ol, flavor profile=['green', 'fresh', 'bitter', 'earthy', 'intensely', 'fatty', 'moss']\n",
      "count=33, id=8857, name=Ethyl Acetate, flavor profile=['sweet', 'anise', 'weedy', 'green', 'fruity', 'pineapple', 'balsam', 'ethereal']\n",
      "count=34, id=10393, name=2-(4-Hydroxyphenyl)ethanol, flavor profile=['mild', 'floral', 'sweet', 'fruity']\n",
      "count=35, id=1183, name=vanillin, flavor profile=['sweet', 'vanilla', 'creamy', 'chocolate']\n",
      "count=36, id=7847, name=Acrolein, flavor profile=['cherry', 'almond']\n",
      "count=37, id=441005, name=(+)-delta-Cadinene, flavor profile=['medicine', 'herbal', 'thyme', 'woody', 'wood', 'dry']\n",
      "count=38, id=7858, name=Allyl Alcohol, flavor profile=['pungent', 'mustard']\n",
      "count=39, id=4788, name=phloretin, flavor profile=['odorless', 'bitter']\n",
      "count=40, id=180, name=acetone, flavor profile=['solvent', 'ethereal', 'pear', 'apple']\n",
      "count=41, id=5280443, name=apigenin, flavor profile=['bitter']\n",
      "count=42, id=5363388, name=cis-3-Hexenyl acetate, flavor profile=['sweet', 'green', 'grassy', 'apple', 'fresh', 'fruity', 'banana']\n",
      "count=43, id=5280445, name=luteolin, flavor profile=['bitter']\n",
      "count=44, id=643779, name=Neral, flavor profile=['lemon peel', 'sweet', 'citral', 'lemon']\n",
      "count=45, id=18635, name=3-(Methylthio)propionaldehyde, flavor profile=['musty', 'creamy', 'cooked potato', 'vegetable', 'peanut', 'earthy', 'fishy', 'tomato', 'potato', 'beef']\n",
      "count=46, id=10448, name=3-methylthiopropanol, flavor profile=['sweet', 'onion', 'vegetable', 'soup', 'potato', 'sulfurous']\n",
      "count=47, id=445154, name=resveratrol, flavor profile=['bitter']\n",
      "count=48, id=1549026, name=Geranyl Acetate, flavor profile=['green', 'lavender', 'floral', 'bitter', 'rose', 'waxy']\n",
      "count=49, id=439533, name=Taxifolin, flavor profile=['bitter']\n",
      "count=50, id=240, name=benzaldehyde, flavor profile=['burnt sugar', 'sweet', 'sharp', 'bitter', 'cherry', 'almond', 'strong']\n",
      "count=51, id=244, name=benzyl alcohol, flavor profile=['sweet', 'berry', 'floral', 'walnut', 'cherry', 'balsamic', 'phenolic', 'rose', 'flower', 'grapefruit']\n",
      "count=52, id=11509, name=3-Hexanone, flavor profile=['rum', 'sweet', 'grape', 'ether', 'fruity', 'waxy']\n",
      "count=53, id=247, name=betaine, flavor profile=['bland']\n",
      "count=54, id=5280511, name=(Z)-cinnamyl alcohol, flavor profile=['sweet', 'green', 'powdery', 'bitter', 'hyacinth', 'balsam', 'cinnamic', 'spicy', 'oil']\n",
      "count=55, id=768, name=hydrogen cyanide, flavor profile=['bitter']\n",
      "count=56, id=8452, name=Cyclopentanone, flavor profile=['minty']\n",
      "count=57, id=784, name=hydrogen peroxide, flavor profile=['bitter']\n",
      "count=58, id=798, name=indole, flavor profile=['moth ball', 'fecal', 'honey', 'burnt', 'jasmine', 'naphthelene', 'floral', 'mothball', 'animal', 'fishy']\n",
      "count=59, id=5284639, name=NSC5112, flavor profile=['bitter']\n",
      "count=60, id=11552, name=3-Methylbutanal, flavor profile=['peach', 'aldehydic', 'malt', 'sour', 'ethereal', 'chocolate', 'fatty']\n",
      "count=61, id=802, name=indole-3-acetic acid, flavor profile=['mild', 'sour', 'odorless']\n",
      "count=62, id=2345, name=Benzyl Benzoate, flavor profile=['sweet', 'strawberry', 'cherry', 'pineapple', 'balsamic', 'oily', 'balsam', 'herb', 'cheese', 'herbal', 'almond', 'oil', 'faint']\n",
      "count=63, id=5315892, name=cinnamyl alcohol, flavor profile=['sweet', 'green', 'powdery', 'bitter', 'hyacinth', 'balsam', 'cinnamic', 'spicy']\n",
      "count=64, id=323, name=coumarin, flavor profile=['sweet', 'green', 'bitter', 'tonka', 'new mown hay']\n",
      "count=65, id=638278, name=isoliquiritigenin, flavor profile=['bitter']\n",
      "count=66, id=6986, name=2-Isopropyl-5-methylcyclohexanone, flavor profile=['sweet', 'minty', 'green', 'mint', 'fresh', 'peppermint', 'cool']\n",
      "count=67, id=26447, name=Menthone, flavor profile=['deep', 'bitter', 'peppermint', 'herbal', 'raspberry', 'menthol', 'camphoraceous', 'camphor']\n",
      "count=68, id=637775, name=Sinapic Acid, flavor profile=['odorless']\n",
      "count=69, id=338, name=salicylic acid, flavor profile=['nutty', 'phenolic', 'faint']\n",
      "count=70, id=5280598, name=Farnesal, flavor profile=['floral', 'minty']\n",
      "count=71, id=13144, name=calcium lactate, flavor profile=['odorless']\n",
      "count=72, id=1889, name=DL-Liquiritigenin, flavor profile=['bitter']\n",
      "count=73, id=643941, name=cis-3-Hexenal, flavor profile=['weedy', 'green', 'grassy', 'apple', 'leaf', 'fruity', 'fatty']\n",
      "count=74, id=9064, name=Cianidanol, flavor profile=['bitter']\n",
      "count=75, id=876, name=Dl-Methionine, flavor profile=['mild', 'acidic', 'sulfurous']\n",
      "count=76, id=878, name=methanethiol, flavor profile=['gasoline', 'decomposing cabbage', 'sulfur', 'garlic']\n",
      "count=77, id=11128, name=Linamarin, flavor profile=['bitter']\n",
      "count=78, id=5318042, name=trans-2-Hexen-1-Ol, flavor profile=['unripe banana', 'green', 'fresh', 'leaf', 'fruit', 'leafy', 'walnut', 'fruity', 'pepper', 'wine', 'alcohol']\n",
      "count=79, id=8094, name=Heptanoic Acid, flavor profile=['rancid', 'sour', 'cheese', 'sweat', 'cheesy']\n",
      "count=80, id=6561, name=Isobutyraldehyde, flavor profile=['green', 'fresh', 'pungent', 'floral', 'malt', 'aldehydic']\n",
      "count=81, id=6050, name=Tributyrin, flavor profile=['creamy', 'bitter', 'cheese', 'waxy', 'fatty']\n",
      "count=82, id=6054, name=2-Phenylethanol, flavor profile=['spice', 'rose dried', 'honey', 'floral', 'lilac', 'bitter', 'rose', 'rose water', 'rose flower']\n",
      "count=83, id=5367719, name=Methyl jasmonate, flavor profile=['melon', 'jasmine', 'fresh', 'floral', 'petal', 'oily', 'waxy', 'magnolia']\n",
      "count=84, id=6569, name=2-Butanone, flavor profile=['acetone', 'ether', 'fruity', 'ethereal', 'camphor']\n",
      "count=85, id=5281708, name=daidzein, flavor profile=['bitter']\n",
      "count=86, id=6072, name=Phlorizin, flavor profile=['bitter']\n",
      "count=87, id=853433, name=Isoeugenol, flavor profile=['sweet', 'floral', 'phenolic', 'spicy', 'flower', 'clove', 'carnation', 'woody']\n",
      "count=88, id=79803, name=1-Pyrroline, flavor profile=['shrimp', 'ammoniacal']\n",
      "count=89, id=8130, name=Heptanal, flavor profile=['green', 'wine-lee', 'fresh', 'rancid', 'ozone', 'fat', 'citrus', 'herbal', 'aldehydic', 'fatty']\n",
      "count=90, id=107971, name=Daidzin, flavor profile=['bitter']\n",
      "count=91, id=454, name=Octanal, flavor profile=['lemon', 'green', 'fat', 'soap', 'citrus', 'aldehydic', 'orange peel', 'waxy', 'fatty']\n",
      "count=92, id=439246, name=naringenin, flavor profile=['bitter']\n",
      "count=93, id=439263, name=(+)-Neomenthol, flavor profile=['mentholic', 'sweet', 'minty', 'camphoraceous']\n",
      "count=94, id=994, name=Dl-Phenylalanine, flavor profile=['odorless']\n",
      "count=95, id=7654, name=Phenethyl acetate, flavor profile=['sweet', 'honey', 'tropical', 'tobacco', 'floral', 'fruity', 'rose']\n",
      "count=96, id=999, name=Phenylacetic Acid, flavor profile=['sweet', 'honey', 'civet', 'floral', 'sour', 'flower', 'waxy', 'honeysuckle']\n",
      "count=97, id=998, name=phenylacetaldehyde, flavor profile=['sweet', 'honey', 'green', 'cocoa', 'floral', 'hawthorne', 'peanut', 'hyacinth', 'bitter', 'clover', 'grapefruit']\n",
      "count=98, id=7150, name=Methyl Benzoate, flavor profile=['sweet', 'prune', 'cananga', 'lettuce', 'floral', 'phenolic', 'herb', 'almond', 'wintergreen']\n",
      "count=99, id=89594, name=nicotine, flavor profile=['bitter']\n"
     ]
    }
   ],
   "source": [
    "ingredient_flavor_molecules = ingredient['molecules'].iloc[0]\n",
    "ingredient_flavor_molecules\n",
    "\n",
    "for i, id in enumerate(ingredient_flavor_molecules):\n",
    "    # fetch flavor molecules\n",
    "    fm = datastore.flavor_molecules[datastore.flavor_molecules['pubchem id'] == id]\n",
    "    print(f'''count={i}, id={id}, name={fm.iloc[0, 1]}, flavor profile={fm.iloc[0, 2]}''')\n",
    "\n"
   ]
  },
  {
   "cell_type": "code",
   "execution_count": 7,
   "id": "47e8b3c3",
   "metadata": {},
   "outputs": [
    {
     "data": {
      "text/html": [
       "<div>\n",
       "<style scoped>\n",
       "    .dataframe tbody tr th:only-of-type {\n",
       "        vertical-align: middle;\n",
       "    }\n",
       "\n",
       "    .dataframe tbody tr th {\n",
       "        vertical-align: top;\n",
       "    }\n",
       "\n",
       "    .dataframe thead th {\n",
       "        text-align: right;\n",
       "    }\n",
       "</style>\n",
       "<table border=\"1\" class=\"dataframe\">\n",
       "  <thead>\n",
       "    <tr style=\"text-align: right;\">\n",
       "      <th></th>\n",
       "      <th>pubchem id</th>\n",
       "      <th>common name</th>\n",
       "      <th>flavor profile</th>\n",
       "    </tr>\n",
       "  </thead>\n",
       "  <tbody>\n",
       "    <tr>\n",
       "      <th>1397</th>\n",
       "      <td>644104</td>\n",
       "      <td>CID 644104</td>\n",
       "      <td>[very mild, grassy]</td>\n",
       "    </tr>\n",
       "  </tbody>\n",
       "</table>\n",
       "</div>"
      ],
      "text/plain": [
       "      pubchem id common name       flavor profile\n",
       "1397      644104  CID 644104  [very mild, grassy]"
      ]
     },
     "execution_count": 7,
     "metadata": {},
     "output_type": "execute_result"
    }
   ],
   "source": [
    "id = 644104\n",
    "datastore.flavor_molecules['pubchem id'] == id\n",
    "fm = datastore.flavor_molecules[datastore.flavor_molecules['pubchem id'] == id]\n",
    "fm"
   ]
  }
 ],
 "metadata": {
  "kernelspec": {
   "display_name": "education",
   "language": "python",
   "name": "education"
  },
  "language_info": {
   "codemirror_mode": {
    "name": "ipython",
    "version": 3
   },
   "file_extension": ".py",
   "mimetype": "text/x-python",
   "name": "python",
   "nbconvert_exporter": "python",
   "pygments_lexer": "ipython3",
   "version": "3.9.16"
  }
 },
 "nbformat": 4,
 "nbformat_minor": 5
}
