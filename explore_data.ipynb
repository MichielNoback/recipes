{
 "cells": [
  {
   "cell_type": "code",
   "execution_count": 10,
   "id": "566baa65",
   "metadata": {},
   "outputs": [
    {
     "data": {
      "application/javascript": "(function(root) {\n  function now() {\n    return new Date();\n  }\n\n  var force = true;\n  var py_version = '3.3.4'.replace('rc', '-rc.').replace('.dev', '-dev.');\n  var reloading = false;\n  var Bokeh = root.Bokeh;\n\n  if (typeof (root._bokeh_timeout) === \"undefined\" || force) {\n    root._bokeh_timeout = Date.now() + 5000;\n    root._bokeh_failed_load = false;\n  }\n\n  function run_callbacks() {\n    try {\n      root._bokeh_onload_callbacks.forEach(function(callback) {\n        if (callback != null)\n          callback();\n      });\n    } finally {\n      delete root._bokeh_onload_callbacks;\n    }\n    console.debug(\"Bokeh: all callbacks have finished\");\n  }\n\n  function load_libs(css_urls, js_urls, js_modules, js_exports, callback) {\n    if (css_urls == null) css_urls = [];\n    if (js_urls == null) js_urls = [];\n    if (js_modules == null) js_modules = [];\n    if (js_exports == null) js_exports = {};\n\n    root._bokeh_onload_callbacks.push(callback);\n\n    if (root._bokeh_is_loading > 0) {\n      console.debug(\"Bokeh: BokehJS is being loaded, scheduling callback at\", now());\n      return null;\n    }\n    if (js_urls.length === 0 && js_modules.length === 0 && Object.keys(js_exports).length === 0) {\n      run_callbacks();\n      return null;\n    }\n    if (!reloading) {\n      console.debug(\"Bokeh: BokehJS not loaded, scheduling load and callback at\", now());\n    }\n\n    function on_load() {\n      root._bokeh_is_loading--;\n      if (root._bokeh_is_loading === 0) {\n        console.debug(\"Bokeh: all BokehJS libraries/stylesheets loaded\");\n        run_callbacks()\n      }\n    }\n    window._bokeh_on_load = on_load\n\n    function on_error() {\n      console.error(\"failed to load \" + url);\n    }\n\n    var skip = [];\n    if (window.requirejs) {\n      window.requirejs.config({'packages': {}, 'paths': {'tabulator': 'https://cdn.jsdelivr.net/npm/tabulator-tables@5.5.0/dist/js/tabulator.min', 'moment': 'https://cdn.jsdelivr.net/npm/luxon/build/global/luxon.min', 'jspanel': 'https://cdn.jsdelivr.net/npm/jspanel4@4.12.0/dist/jspanel', 'jspanel-modal': 'https://cdn.jsdelivr.net/npm/jspanel4@4.12.0/dist/extensions/modal/jspanel.modal', 'jspanel-tooltip': 'https://cdn.jsdelivr.net/npm/jspanel4@4.12.0/dist/extensions/tooltip/jspanel.tooltip', 'jspanel-hint': 'https://cdn.jsdelivr.net/npm/jspanel4@4.12.0/dist/extensions/hint/jspanel.hint', 'jspanel-layout': 'https://cdn.jsdelivr.net/npm/jspanel4@4.12.0/dist/extensions/layout/jspanel.layout', 'jspanel-contextmenu': 'https://cdn.jsdelivr.net/npm/jspanel4@4.12.0/dist/extensions/contextmenu/jspanel.contextmenu', 'jspanel-dock': 'https://cdn.jsdelivr.net/npm/jspanel4@4.12.0/dist/extensions/dock/jspanel.dock', 'gridstack': 'https://cdn.jsdelivr.net/npm/gridstack@7.2.3/dist/gridstack-all', 'notyf': 'https://cdn.jsdelivr.net/npm/notyf@3/notyf.min'}, 'shim': {'jspanel': {'exports': 'jsPanel'}, 'gridstack': {'exports': 'GridStack'}}});\n      require([\"tabulator\"], function(Tabulator) {\n\twindow.Tabulator = Tabulator\n\ton_load()\n      })\n      require([\"moment\"], function(moment) {\n\twindow.moment = moment\n\ton_load()\n      })\n      require([\"jspanel\"], function(jsPanel) {\n\twindow.jsPanel = jsPanel\n\ton_load()\n      })\n      require([\"jspanel-modal\"], function() {\n\ton_load()\n      })\n      require([\"jspanel-tooltip\"], function() {\n\ton_load()\n      })\n      require([\"jspanel-hint\"], function() {\n\ton_load()\n      })\n      require([\"jspanel-layout\"], function() {\n\ton_load()\n      })\n      require([\"jspanel-contextmenu\"], function() {\n\ton_load()\n      })\n      require([\"jspanel-dock\"], function() {\n\ton_load()\n      })\n      require([\"gridstack\"], function(GridStack) {\n\twindow.GridStack = GridStack\n\ton_load()\n      })\n      require([\"notyf\"], function() {\n\ton_load()\n      })\n      root._bokeh_is_loading = css_urls.length + 11;\n    } else {\n      root._bokeh_is_loading = css_urls.length + js_urls.length + js_modules.length + Object.keys(js_exports).length;\n    }\n\n    var existing_stylesheets = []\n    var links = document.getElementsByTagName('link')\n    for (var i = 0; i < links.length; i++) {\n      var link = links[i]\n      if (link.href != null) {\n\texisting_stylesheets.push(link.href)\n      }\n    }\n    for (var i = 0; i < css_urls.length; i++) {\n      var url = css_urls[i];\n      if (existing_stylesheets.indexOf(url) !== -1) {\n\ton_load()\n\tcontinue;\n      }\n      const element = document.createElement(\"link\");\n      element.onload = on_load;\n      element.onerror = on_error;\n      element.rel = \"stylesheet\";\n      element.type = \"text/css\";\n      element.href = url;\n      console.debug(\"Bokeh: injecting link tag for BokehJS stylesheet: \", url);\n      document.body.appendChild(element);\n    }    if (((window['Tabulator'] !== undefined) && (!(window['Tabulator'] instanceof HTMLElement))) || window.requirejs) {\n      var urls = ['https://cdn.holoviz.org/panel/1.3.8/dist/bundled/datatabulator/tabulator-tables@5.5.0/dist/js/tabulator.min.js'];\n      for (var i = 0; i < urls.length; i++) {\n        skip.push(urls[i])\n      }\n    }    if (((window['moment'] !== undefined) && (!(window['moment'] instanceof HTMLElement))) || window.requirejs) {\n      var urls = ['https://cdn.holoviz.org/panel/1.3.8/dist/bundled/datatabulator/luxon/build/global/luxon.min.js'];\n      for (var i = 0; i < urls.length; i++) {\n        skip.push(urls[i])\n      }\n    }    if (((window['jsPanel'] !== undefined) && (!(window['jsPanel'] instanceof HTMLElement))) || window.requirejs) {\n      var urls = ['https://cdn.holoviz.org/panel/1.3.8/dist/bundled/floatpanel/jspanel4@4.12.0/dist/jspanel.js', 'https://cdn.holoviz.org/panel/1.3.8/dist/bundled/floatpanel/jspanel4@4.12.0/dist/extensions/modal/jspanel.modal.js', 'https://cdn.holoviz.org/panel/1.3.8/dist/bundled/floatpanel/jspanel4@4.12.0/dist/extensions/tooltip/jspanel.tooltip.js', 'https://cdn.holoviz.org/panel/1.3.8/dist/bundled/floatpanel/jspanel4@4.12.0/dist/extensions/hint/jspanel.hint.js', 'https://cdn.holoviz.org/panel/1.3.8/dist/bundled/floatpanel/jspanel4@4.12.0/dist/extensions/layout/jspanel.layout.js', 'https://cdn.holoviz.org/panel/1.3.8/dist/bundled/floatpanel/jspanel4@4.12.0/dist/extensions/contextmenu/jspanel.contextmenu.js', 'https://cdn.holoviz.org/panel/1.3.8/dist/bundled/floatpanel/jspanel4@4.12.0/dist/extensions/dock/jspanel.dock.js'];\n      for (var i = 0; i < urls.length; i++) {\n        skip.push(urls[i])\n      }\n    }    if (((window['GridStack'] !== undefined) && (!(window['GridStack'] instanceof HTMLElement))) || window.requirejs) {\n      var urls = ['https://cdn.holoviz.org/panel/1.3.8/dist/bundled/gridstack/gridstack@7.2.3/dist/gridstack-all.js'];\n      for (var i = 0; i < urls.length; i++) {\n        skip.push(urls[i])\n      }\n    }    if (((window['Notyf'] !== undefined) && (!(window['Notyf'] instanceof HTMLElement))) || window.requirejs) {\n      var urls = ['https://cdn.holoviz.org/panel/1.3.8/dist/bundled/notificationarea/notyf@3/notyf.min.js'];\n      for (var i = 0; i < urls.length; i++) {\n        skip.push(urls[i])\n      }\n    }    var existing_scripts = []\n    var scripts = document.getElementsByTagName('script')\n    for (var i = 0; i < scripts.length; i++) {\n      var script = scripts[i]\n      if (script.src != null) {\n\texisting_scripts.push(script.src)\n      }\n    }\n    for (var i = 0; i < js_urls.length; i++) {\n      var url = js_urls[i];\n      if (skip.indexOf(url) !== -1 || existing_scripts.indexOf(url) !== -1) {\n\tif (!window.requirejs) {\n\t  on_load();\n\t}\n\tcontinue;\n      }\n      var element = document.createElement('script');\n      element.onload = on_load;\n      element.onerror = on_error;\n      element.async = false;\n      element.src = url;\n      console.debug(\"Bokeh: injecting script tag for BokehJS library: \", url);\n      document.head.appendChild(element);\n    }\n    for (var i = 0; i < js_modules.length; i++) {\n      var url = js_modules[i];\n      if (skip.indexOf(url) !== -1 || existing_scripts.indexOf(url) !== -1) {\n\tif (!window.requirejs) {\n\t  on_load();\n\t}\n\tcontinue;\n      }\n      var element = document.createElement('script');\n      element.onload = on_load;\n      element.onerror = on_error;\n      element.async = false;\n      element.src = url;\n      element.type = \"module\";\n      console.debug(\"Bokeh: injecting script tag for BokehJS library: \", url);\n      document.head.appendChild(element);\n    }\n    for (const name in js_exports) {\n      var url = js_exports[name];\n      if (skip.indexOf(url) >= 0 || root[name] != null) {\n\tif (!window.requirejs) {\n\t  on_load();\n\t}\n\tcontinue;\n      }\n      var element = document.createElement('script');\n      element.onerror = on_error;\n      element.async = false;\n      element.type = \"module\";\n      console.debug(\"Bokeh: injecting script tag for BokehJS library: \", url);\n      element.textContent = `\n      import ${name} from \"${url}\"\n      window.${name} = ${name}\n      window._bokeh_on_load()\n      `\n      document.head.appendChild(element);\n    }\n    if (!js_urls.length && !js_modules.length) {\n      on_load()\n    }\n  };\n\n  function inject_raw_css(css) {\n    const element = document.createElement(\"style\");\n    element.appendChild(document.createTextNode(css));\n    document.body.appendChild(element);\n  }\n\n  var js_urls = [\"https://cdn.holoviz.org/panel/1.3.8/dist/bundled/datatabulator/tabulator-tables@5.5.0/dist/js/tabulator.min.js\", \"https://cdn.holoviz.org/panel/1.3.8/dist/bundled/datatabulator/luxon/build/global/luxon.min.js\", \"https://cdn.bokeh.org/bokeh/release/bokeh-3.3.4.min.js\", \"https://cdn.bokeh.org/bokeh/release/bokeh-gl-3.3.4.min.js\", \"https://cdn.bokeh.org/bokeh/release/bokeh-widgets-3.3.4.min.js\", \"https://cdn.bokeh.org/bokeh/release/bokeh-tables-3.3.4.min.js\", \"https://cdn.holoviz.org/panel/1.3.8/dist/panel.min.js\"];\n  var js_modules = [];\n  var js_exports = {};\n  var css_urls = [\"https://cdn.holoviz.org/panel/1.3.8/dist/bundled/datatabulator/tabulator-tables@5.5.0/dist/css/tabulator_simple.min.css\"];\n  var inline_js = [    function(Bokeh) {\n      Bokeh.set_log_level(\"info\");\n    },\nfunction(Bokeh) {} // ensure no trailing comma for IE\n  ];\n\n  function run_inline_js() {\n    if ((root.Bokeh !== undefined) || (force === true)) {\n      for (var i = 0; i < inline_js.length; i++) {\n\ttry {\n          inline_js[i].call(root, root.Bokeh);\n\t} catch(e) {\n\t  if (!reloading) {\n\t    throw e;\n\t  }\n\t}\n      }\n      // Cache old bokeh versions\n      if (Bokeh != undefined && !reloading) {\n\tvar NewBokeh = root.Bokeh;\n\tif (Bokeh.versions === undefined) {\n\t  Bokeh.versions = new Map();\n\t}\n\tif (NewBokeh.version !== Bokeh.version) {\n\t  Bokeh.versions.set(NewBokeh.version, NewBokeh)\n\t}\n\troot.Bokeh = Bokeh;\n      }} else if (Date.now() < root._bokeh_timeout) {\n      setTimeout(run_inline_js, 100);\n    } else if (!root._bokeh_failed_load) {\n      console.log(\"Bokeh: BokehJS failed to load within specified timeout.\");\n      root._bokeh_failed_load = true;\n    }\n    root._bokeh_is_initializing = false\n  }\n\n  function load_or_wait() {\n    // Implement a backoff loop that tries to ensure we do not load multiple\n    // versions of Bokeh and its dependencies at the same time.\n    // In recent versions we use the root._bokeh_is_initializing flag\n    // to determine whether there is an ongoing attempt to initialize\n    // bokeh, however for backward compatibility we also try to ensure\n    // that we do not start loading a newer (Panel>=1.0 and Bokeh>3) version\n    // before older versions are fully initialized.\n    if (root._bokeh_is_initializing && Date.now() > root._bokeh_timeout) {\n      root._bokeh_is_initializing = false;\n      root._bokeh_onload_callbacks = undefined;\n      console.log(\"Bokeh: BokehJS was loaded multiple times but one version failed to initialize.\");\n      load_or_wait();\n    } else if (root._bokeh_is_initializing || (typeof root._bokeh_is_initializing === \"undefined\" && root._bokeh_onload_callbacks !== undefined)) {\n      setTimeout(load_or_wait, 100);\n    } else {\n      root._bokeh_is_initializing = true\n      root._bokeh_onload_callbacks = []\n      var bokeh_loaded = Bokeh != null && (Bokeh.version === py_version || (Bokeh.versions !== undefined && Bokeh.versions.has(py_version)));\n      if (!reloading && !bokeh_loaded) {\n\troot.Bokeh = undefined;\n      }\n      load_libs(css_urls, js_urls, js_modules, js_exports, function() {\n\tconsole.debug(\"Bokeh: BokehJS plotting callback run at\", now());\n\trun_inline_js();\n      });\n    }\n  }\n  // Give older versions of the autoload script a head-start to ensure\n  // they initialize before we start loading newer version.\n  setTimeout(load_or_wait, 100)\n}(window));",
      "application/vnd.holoviews_load.v0+json": ""
     },
     "metadata": {},
     "output_type": "display_data"
    },
    {
     "data": {
      "application/javascript": "\nif ((window.PyViz === undefined) || (window.PyViz instanceof HTMLElement)) {\n  window.PyViz = {comms: {}, comm_status:{}, kernels:{}, receivers: {}, plot_index: []}\n}\n\n\n    function JupyterCommManager() {\n    }\n\n    JupyterCommManager.prototype.register_target = function(plot_id, comm_id, msg_handler) {\n      if (window.comm_manager || ((window.Jupyter !== undefined) && (Jupyter.notebook.kernel != null))) {\n        var comm_manager = window.comm_manager || Jupyter.notebook.kernel.comm_manager;\n        comm_manager.register_target(comm_id, function(comm) {\n          comm.on_msg(msg_handler);\n        });\n      } else if ((plot_id in window.PyViz.kernels) && (window.PyViz.kernels[plot_id])) {\n        window.PyViz.kernels[plot_id].registerCommTarget(comm_id, function(comm) {\n          comm.onMsg = msg_handler;\n        });\n      } else if (typeof google != 'undefined' && google.colab.kernel != null) {\n        google.colab.kernel.comms.registerTarget(comm_id, (comm) => {\n          var messages = comm.messages[Symbol.asyncIterator]();\n          function processIteratorResult(result) {\n            var message = result.value;\n            console.log(message)\n            var content = {data: message.data, comm_id};\n            var buffers = []\n            for (var buffer of message.buffers || []) {\n              buffers.push(new DataView(buffer))\n            }\n            var metadata = message.metadata || {};\n            var msg = {content, buffers, metadata}\n            msg_handler(msg);\n            return messages.next().then(processIteratorResult);\n          }\n          return messages.next().then(processIteratorResult);\n        })\n      }\n    }\n\n    JupyterCommManager.prototype.get_client_comm = function(plot_id, comm_id, msg_handler) {\n      if (comm_id in window.PyViz.comms) {\n        return window.PyViz.comms[comm_id];\n      } else if (window.comm_manager || ((window.Jupyter !== undefined) && (Jupyter.notebook.kernel != null))) {\n        var comm_manager = window.comm_manager || Jupyter.notebook.kernel.comm_manager;\n        var comm = comm_manager.new_comm(comm_id, {}, {}, {}, comm_id);\n        if (msg_handler) {\n          comm.on_msg(msg_handler);\n        }\n      } else if ((plot_id in window.PyViz.kernels) && (window.PyViz.kernels[plot_id])) {\n        var comm = window.PyViz.kernels[plot_id].connectToComm(comm_id);\n        comm.open();\n        if (msg_handler) {\n          comm.onMsg = msg_handler;\n        }\n      } else if (typeof google != 'undefined' && google.colab.kernel != null) {\n        var comm_promise = google.colab.kernel.comms.open(comm_id)\n        comm_promise.then((comm) => {\n          window.PyViz.comms[comm_id] = comm;\n          if (msg_handler) {\n            var messages = comm.messages[Symbol.asyncIterator]();\n            function processIteratorResult(result) {\n              var message = result.value;\n              var content = {data: message.data};\n              var metadata = message.metadata || {comm_id};\n              var msg = {content, metadata}\n              msg_handler(msg);\n              return messages.next().then(processIteratorResult);\n            }\n            return messages.next().then(processIteratorResult);\n          }\n        }) \n        var sendClosure = (data, metadata, buffers, disposeOnDone) => {\n          return comm_promise.then((comm) => {\n            comm.send(data, metadata, buffers, disposeOnDone);\n          });\n        };\n        var comm = {\n          send: sendClosure\n        };\n      }\n      window.PyViz.comms[comm_id] = comm;\n      return comm;\n    }\n    window.PyViz.comm_manager = new JupyterCommManager();\n    \n\n\nvar JS_MIME_TYPE = 'application/javascript';\nvar HTML_MIME_TYPE = 'text/html';\nvar EXEC_MIME_TYPE = 'application/vnd.holoviews_exec.v0+json';\nvar CLASS_NAME = 'output';\n\n/**\n * Render data to the DOM node\n */\nfunction render(props, node) {\n  var div = document.createElement(\"div\");\n  var script = document.createElement(\"script\");\n  node.appendChild(div);\n  node.appendChild(script);\n}\n\n/**\n * Handle when a new output is added\n */\nfunction handle_add_output(event, handle) {\n  var output_area = handle.output_area;\n  var output = handle.output;\n  if ((output.data == undefined) || (!output.data.hasOwnProperty(EXEC_MIME_TYPE))) {\n    return\n  }\n  var id = output.metadata[EXEC_MIME_TYPE][\"id\"];\n  var toinsert = output_area.element.find(\".\" + CLASS_NAME.split(' ')[0]);\n  if (id !== undefined) {\n    var nchildren = toinsert.length;\n    var html_node = toinsert[nchildren-1].children[0];\n    html_node.innerHTML = output.data[HTML_MIME_TYPE];\n    var scripts = [];\n    var nodelist = html_node.querySelectorAll(\"script\");\n    for (var i in nodelist) {\n      if (nodelist.hasOwnProperty(i)) {\n        scripts.push(nodelist[i])\n      }\n    }\n\n    scripts.forEach( function (oldScript) {\n      var newScript = document.createElement(\"script\");\n      var attrs = [];\n      var nodemap = oldScript.attributes;\n      for (var j in nodemap) {\n        if (nodemap.hasOwnProperty(j)) {\n          attrs.push(nodemap[j])\n        }\n      }\n      attrs.forEach(function(attr) { newScript.setAttribute(attr.name, attr.value) });\n      newScript.appendChild(document.createTextNode(oldScript.innerHTML));\n      oldScript.parentNode.replaceChild(newScript, oldScript);\n    });\n    if (JS_MIME_TYPE in output.data) {\n      toinsert[nchildren-1].children[1].textContent = output.data[JS_MIME_TYPE];\n    }\n    output_area._hv_plot_id = id;\n    if ((window.Bokeh !== undefined) && (id in Bokeh.index)) {\n      window.PyViz.plot_index[id] = Bokeh.index[id];\n    } else {\n      window.PyViz.plot_index[id] = null;\n    }\n  } else if (output.metadata[EXEC_MIME_TYPE][\"server_id\"] !== undefined) {\n    var bk_div = document.createElement(\"div\");\n    bk_div.innerHTML = output.data[HTML_MIME_TYPE];\n    var script_attrs = bk_div.children[0].attributes;\n    for (var i = 0; i < script_attrs.length; i++) {\n      toinsert[toinsert.length - 1].childNodes[1].setAttribute(script_attrs[i].name, script_attrs[i].value);\n    }\n    // store reference to server id on output_area\n    output_area._bokeh_server_id = output.metadata[EXEC_MIME_TYPE][\"server_id\"];\n  }\n}\n\n/**\n * Handle when an output is cleared or removed\n */\nfunction handle_clear_output(event, handle) {\n  var id = handle.cell.output_area._hv_plot_id;\n  var server_id = handle.cell.output_area._bokeh_server_id;\n  if (((id === undefined) || !(id in PyViz.plot_index)) && (server_id !== undefined)) { return; }\n  var comm = window.PyViz.comm_manager.get_client_comm(\"hv-extension-comm\", \"hv-extension-comm\", function () {});\n  if (server_id !== null) {\n    comm.send({event_type: 'server_delete', 'id': server_id});\n    return;\n  } else if (comm !== null) {\n    comm.send({event_type: 'delete', 'id': id});\n  }\n  delete PyViz.plot_index[id];\n  if ((window.Bokeh !== undefined) & (id in window.Bokeh.index)) {\n    var doc = window.Bokeh.index[id].model.document\n    doc.clear();\n    const i = window.Bokeh.documents.indexOf(doc);\n    if (i > -1) {\n      window.Bokeh.documents.splice(i, 1);\n    }\n  }\n}\n\n/**\n * Handle kernel restart event\n */\nfunction handle_kernel_cleanup(event, handle) {\n  delete PyViz.comms[\"hv-extension-comm\"];\n  window.PyViz.plot_index = {}\n}\n\n/**\n * Handle update_display_data messages\n */\nfunction handle_update_output(event, handle) {\n  handle_clear_output(event, {cell: {output_area: handle.output_area}})\n  handle_add_output(event, handle)\n}\n\nfunction register_renderer(events, OutputArea) {\n  function append_mime(data, metadata, element) {\n    // create a DOM node to render to\n    var toinsert = this.create_output_subarea(\n    metadata,\n    CLASS_NAME,\n    EXEC_MIME_TYPE\n    );\n    this.keyboard_manager.register_events(toinsert);\n    // Render to node\n    var props = {data: data, metadata: metadata[EXEC_MIME_TYPE]};\n    render(props, toinsert[0]);\n    element.append(toinsert);\n    return toinsert\n  }\n\n  events.on('output_added.OutputArea', handle_add_output);\n  events.on('output_updated.OutputArea', handle_update_output);\n  events.on('clear_output.CodeCell', handle_clear_output);\n  events.on('delete.Cell', handle_clear_output);\n  events.on('kernel_ready.Kernel', handle_kernel_cleanup);\n\n  OutputArea.prototype.register_mime_type(EXEC_MIME_TYPE, append_mime, {\n    safe: true,\n    index: 0\n  });\n}\n\nif (window.Jupyter !== undefined) {\n  try {\n    var events = require('base/js/events');\n    var OutputArea = require('notebook/js/outputarea').OutputArea;\n    if (OutputArea.prototype.mime_types().indexOf(EXEC_MIME_TYPE) == -1) {\n      register_renderer(events, OutputArea);\n    }\n  } catch(err) {\n  }\n}\n",
      "application/vnd.holoviews_load.v0+json": ""
     },
     "metadata": {},
     "output_type": "display_data"
    },
    {
     "data": {
      "text/html": [
       "<style>*[data-root-id],\n",
       "*[data-root-id] > * {\n",
       "  box-sizing: border-box;\n",
       "  font-family: var(--jp-ui-font-family);\n",
       "  font-size: var(--jp-ui-font-size1);\n",
       "  color: var(--vscode-editor-foreground, var(--jp-ui-font-color1));\n",
       "}\n",
       "\n",
       "/* Override VSCode background color */\n",
       ".cell-output-ipywidget-background:has(\n",
       "    > .cell-output-ipywidget-background > .lm-Widget > *[data-root-id]\n",
       "  ),\n",
       ".cell-output-ipywidget-background:has(> .lm-Widget > *[data-root-id]) {\n",
       "  background-color: transparent !important;\n",
       "}\n",
       "</style>"
      ]
     },
     "metadata": {},
     "output_type": "display_data"
    },
    {
     "data": {
      "application/vnd.holoviews_exec.v0+json": "",
      "text/html": [
       "<div id='fd37ed46-849b-46e8-9c6a-adc3bfea8685'>\n",
       "  <div id=\"d1ae4456-2a25-4528-8d4f-1e2030064124\" data-root-id=\"fd37ed46-849b-46e8-9c6a-adc3bfea8685\" style=\"display: contents;\"></div>\n",
       "</div>\n",
       "<script type=\"application/javascript\">(function(root) {\n",
       "  var docs_json = {\"96862f42-1e6a-4538-84bd-5b7bd6f28cd0\":{\"version\":\"3.3.4\",\"title\":\"Bokeh Application\",\"roots\":[{\"type\":\"object\",\"name\":\"panel.models.browser.BrowserInfo\",\"id\":\"fd37ed46-849b-46e8-9c6a-adc3bfea8685\"},{\"type\":\"object\",\"name\":\"panel.models.comm_manager.CommManager\",\"id\":\"0bcb9bff-b53d-4698-9a99-949daab740bb\",\"attributes\":{\"plot_id\":\"fd37ed46-849b-46e8-9c6a-adc3bfea8685\",\"comm_id\":\"6c8d049e5807477288c2bceea7f9bd34\",\"client_comm_id\":\"dd70f05407024144b29ef7b678755cbd\"}}],\"defs\":[{\"type\":\"model\",\"name\":\"ReactiveHTML1\"},{\"type\":\"model\",\"name\":\"FlexBox1\",\"properties\":[{\"name\":\"align_content\",\"kind\":\"Any\",\"default\":\"flex-start\"},{\"name\":\"align_items\",\"kind\":\"Any\",\"default\":\"flex-start\"},{\"name\":\"flex_direction\",\"kind\":\"Any\",\"default\":\"row\"},{\"name\":\"flex_wrap\",\"kind\":\"Any\",\"default\":\"wrap\"},{\"name\":\"justify_content\",\"kind\":\"Any\",\"default\":\"flex-start\"}]},{\"type\":\"model\",\"name\":\"FloatPanel1\",\"properties\":[{\"name\":\"config\",\"kind\":\"Any\",\"default\":{\"type\":\"map\"}},{\"name\":\"contained\",\"kind\":\"Any\",\"default\":true},{\"name\":\"position\",\"kind\":\"Any\",\"default\":\"right-top\"},{\"name\":\"offsetx\",\"kind\":\"Any\",\"default\":null},{\"name\":\"offsety\",\"kind\":\"Any\",\"default\":null},{\"name\":\"theme\",\"kind\":\"Any\",\"default\":\"primary\"},{\"name\":\"status\",\"kind\":\"Any\",\"default\":\"normalized\"}]},{\"type\":\"model\",\"name\":\"GridStack1\",\"properties\":[{\"name\":\"mode\",\"kind\":\"Any\",\"default\":\"warn\"},{\"name\":\"ncols\",\"kind\":\"Any\",\"default\":null},{\"name\":\"nrows\",\"kind\":\"Any\",\"default\":null},{\"name\":\"allow_resize\",\"kind\":\"Any\",\"default\":true},{\"name\":\"allow_drag\",\"kind\":\"Any\",\"default\":true},{\"name\":\"state\",\"kind\":\"Any\",\"default\":[]}]},{\"type\":\"model\",\"name\":\"drag1\",\"properties\":[{\"name\":\"slider_width\",\"kind\":\"Any\",\"default\":5},{\"name\":\"slider_color\",\"kind\":\"Any\",\"default\":\"black\"},{\"name\":\"value\",\"kind\":\"Any\",\"default\":50}]},{\"type\":\"model\",\"name\":\"click1\",\"properties\":[{\"name\":\"terminal_output\",\"kind\":\"Any\",\"default\":\"\"},{\"name\":\"debug_name\",\"kind\":\"Any\",\"default\":\"\"},{\"name\":\"clears\",\"kind\":\"Any\",\"default\":0}]},{\"type\":\"model\",\"name\":\"copy_to_clipboard1\",\"properties\":[{\"name\":\"fill\",\"kind\":\"Any\",\"default\":\"none\"},{\"name\":\"value\",\"kind\":\"Any\",\"default\":null}]},{\"type\":\"model\",\"name\":\"FastWrapper1\",\"properties\":[{\"name\":\"object\",\"kind\":\"Any\",\"default\":null},{\"name\":\"style\",\"kind\":\"Any\",\"default\":null}]},{\"type\":\"model\",\"name\":\"NotificationAreaBase1\",\"properties\":[{\"name\":\"js_events\",\"kind\":\"Any\",\"default\":{\"type\":\"map\"}},{\"name\":\"position\",\"kind\":\"Any\",\"default\":\"bottom-right\"},{\"name\":\"_clear\",\"kind\":\"Any\",\"default\":0}]},{\"type\":\"model\",\"name\":\"NotificationArea1\",\"properties\":[{\"name\":\"js_events\",\"kind\":\"Any\",\"default\":{\"type\":\"map\"}},{\"name\":\"notifications\",\"kind\":\"Any\",\"default\":[]},{\"name\":\"position\",\"kind\":\"Any\",\"default\":\"bottom-right\"},{\"name\":\"_clear\",\"kind\":\"Any\",\"default\":0},{\"name\":\"types\",\"kind\":\"Any\",\"default\":[{\"type\":\"map\",\"entries\":[[\"type\",\"warning\"],[\"background\",\"#ffc107\"],[\"icon\",{\"type\":\"map\",\"entries\":[[\"className\",\"fas fa-exclamation-triangle\"],[\"tagName\",\"i\"],[\"color\",\"white\"]]}]]},{\"type\":\"map\",\"entries\":[[\"type\",\"info\"],[\"background\",\"#007bff\"],[\"icon\",{\"type\":\"map\",\"entries\":[[\"className\",\"fas fa-info-circle\"],[\"tagName\",\"i\"],[\"color\",\"white\"]]}]]}]}]},{\"type\":\"model\",\"name\":\"Notification\",\"properties\":[{\"name\":\"background\",\"kind\":\"Any\",\"default\":null},{\"name\":\"duration\",\"kind\":\"Any\",\"default\":3000},{\"name\":\"icon\",\"kind\":\"Any\",\"default\":null},{\"name\":\"message\",\"kind\":\"Any\",\"default\":\"\"},{\"name\":\"notification_type\",\"kind\":\"Any\",\"default\":null},{\"name\":\"_destroyed\",\"kind\":\"Any\",\"default\":false}]},{\"type\":\"model\",\"name\":\"TemplateActions1\",\"properties\":[{\"name\":\"open_modal\",\"kind\":\"Any\",\"default\":0},{\"name\":\"close_modal\",\"kind\":\"Any\",\"default\":0}]},{\"type\":\"model\",\"name\":\"BootstrapTemplateActions1\",\"properties\":[{\"name\":\"open_modal\",\"kind\":\"Any\",\"default\":0},{\"name\":\"close_modal\",\"kind\":\"Any\",\"default\":0}]},{\"type\":\"model\",\"name\":\"MaterialTemplateActions1\",\"properties\":[{\"name\":\"open_modal\",\"kind\":\"Any\",\"default\":0},{\"name\":\"close_modal\",\"kind\":\"Any\",\"default\":0}]}]}};\n",
       "  var render_items = [{\"docid\":\"96862f42-1e6a-4538-84bd-5b7bd6f28cd0\",\"roots\":{\"fd37ed46-849b-46e8-9c6a-adc3bfea8685\":\"d1ae4456-2a25-4528-8d4f-1e2030064124\"},\"root_ids\":[\"fd37ed46-849b-46e8-9c6a-adc3bfea8685\"]}];\n",
       "  var docs = Object.values(docs_json)\n",
       "  if (!docs) {\n",
       "    return\n",
       "  }\n",
       "  const py_version = docs[0].version.replace('rc', '-rc.').replace('.dev', '-dev.')\n",
       "  function embed_document(root) {\n",
       "    var Bokeh = get_bokeh(root)\n",
       "    Bokeh.embed.embed_items_notebook(docs_json, render_items);\n",
       "    for (const render_item of render_items) {\n",
       "      for (const root_id of render_item.root_ids) {\n",
       "\tconst id_el = document.getElementById(root_id)\n",
       "\tif (id_el.children.length && (id_el.children[0].className === 'bk-root')) {\n",
       "\t  const root_el = id_el.children[0]\n",
       "\t  root_el.id = root_el.id + '-rendered'\n",
       "\t}\n",
       "      }\n",
       "    }\n",
       "  }\n",
       "  function get_bokeh(root) {\n",
       "    if (root.Bokeh === undefined) {\n",
       "      return null\n",
       "    } else if (root.Bokeh.version !== py_version) {\n",
       "      if (root.Bokeh.versions === undefined || !root.Bokeh.versions.has(py_version)) {\n",
       "\treturn null\n",
       "      }\n",
       "      return root.Bokeh.versions.get(py_version);\n",
       "    } else if (root.Bokeh.version === py_version) {\n",
       "      return root.Bokeh\n",
       "    }\n",
       "    return null\n",
       "  }\n",
       "  function is_loaded(root) {\n",
       "    var Bokeh = get_bokeh(root)\n",
       "    return (Bokeh != null && Bokeh.Panel !== undefined)\n",
       "  }\n",
       "  if (is_loaded(root)) {\n",
       "    embed_document(root);\n",
       "  } else {\n",
       "    var attempts = 0;\n",
       "    var timer = setInterval(function(root) {\n",
       "      if (is_loaded(root)) {\n",
       "        clearInterval(timer);\n",
       "        embed_document(root);\n",
       "      } else if (document.readyState == \"complete\") {\n",
       "        attempts++;\n",
       "        if (attempts > 200) {\n",
       "          clearInterval(timer);\n",
       "\t  var Bokeh = get_bokeh(root)\n",
       "\t  if (Bokeh == null || Bokeh.Panel == null) {\n",
       "            console.warn(\"Panel: ERROR: Unable to run Panel code because Bokeh or Panel library is missing\");\n",
       "\t  } else {\n",
       "\t    console.warn(\"Panel: WARNING: Attempting to render but not all required libraries could be resolved.\")\n",
       "\t    embed_document(root)\n",
       "\t  }\n",
       "        }\n",
       "      }\n",
       "    }, 25, root)\n",
       "  }\n",
       "})(window);</script>"
      ]
     },
     "metadata": {
      "application/vnd.holoviews_exec.v0+json": {
       "id": "fd37ed46-849b-46e8-9c6a-adc3bfea8685"
      }
     },
     "output_type": "display_data"
    }
   ],
   "source": [
    "import numpy as np\n",
    "import pandas as pd\n",
    "import dashboard\n",
    "import panel as pn\n",
    "pn.extension()\n",
    "import utils"
   ]
  },
  {
   "cell_type": "code",
   "execution_count": 2,
   "id": "b314b787",
   "metadata": {},
   "outputs": [
    {
     "data": {
      "text/plain": [
       "['sweet', 'creamy', 'caramel', 'lactonic', 'brown']"
      ]
     },
     "execution_count": 2,
     "metadata": {},
     "output_type": "execute_result"
    }
   ],
   "source": [
    "def parse_list_col(x: str) -> list[str]:\n",
    "    x = x.replace('{', '[').replace('}', ']')\n",
    "    return eval(x)\n",
    "\n",
    "test_data = \"{'sweet', 'creamy', 'caramel', 'lactonic', 'brown'}\"\n",
    "parse_list_col(test_data)\n"
   ]
  },
  {
   "cell_type": "markdown",
   "id": "c72b0134",
   "metadata": {},
   "source": [
    "## Read in the molecules data file"
   ]
  },
  {
   "cell_type": "code",
   "execution_count": 3,
   "id": "b320808f",
   "metadata": {},
   "outputs": [
    {
     "name": "stdout",
     "output_type": "stream",
     "text": [
      "   pubchem id                  common name  \\\n",
      "0           4           1-Aminopropan-2-ol   \n",
      "1          49  3-Methyl-2-oxobutanoic acid   \n",
      "2          58           2-oxobutanoic acid   \n",
      "3          70   4-Methyl-2-oxovaleric acid   \n",
      "4          72    3,4-Dihydroxybenzoic Acid   \n",
      "\n",
      "                              flavor profile  \n",
      "0                                    [fishy]  \n",
      "1                                   [fruity]  \n",
      "2  [sweet, creamy, caramel, lactonic, brown]  \n",
      "3                                   [fruity]  \n",
      "4                 [mild, balsamic, phenolic]  \n"
     ]
    }
   ],
   "source": [
    "molecules = pd.read_csv(\"data/flavordb/molecules.csv\", index_col=0)\n",
    "#convert molecules string (\"{'sweet', 'creamy', 'caramel', 'lactonic', 'brown'}\") to list\n",
    "molecules['flavor profile'] = molecules['flavor profile'].apply(parse_list_col)\n",
    "print(molecules.head())\n"
   ]
  },
  {
   "cell_type": "markdown",
   "id": "b1b28bec",
   "metadata": {},
   "source": [
    "## Read the flavordb.csv file\n"
   ]
  },
  {
   "cell_type": "code",
   "execution_count": 4,
   "id": "9d8848e2",
   "metadata": {},
   "outputs": [
    {
     "name": "stdout",
     "output_type": "stream",
     "text": [
      "   entity id            alias                   synonyms scientific name  \\\n",
      "0          1  bakery products          [bakery products]        poacceae   \n",
      "1          2            bread                    [bread]        poacceae   \n",
      "2          3        rye bread                [rye bread]             rye   \n",
      "3          4    wheaten bread  [soda scones, soda farls]           wheat   \n",
      "4          5      white bread              [white bread]           wheat   \n",
      "\n",
      "  category                                          molecules  \n",
      "0   bakery          [27457, 7976, 31252, 26808, 22201, 26331]  \n",
      "1   bakery  [1031, 1032, 644104, 527, 8723, 31260, 15394, ...  \n",
      "2   bakery  [644104, 7824, 643731, 8468, 1049, 5372954, 80...  \n",
      "3   bakery  [6915, 5365891, 12170, 8082, 31251, 7958, 1049...  \n",
      "4   bakery  [7361, 994, 10883, 7362, 11173, 5365891, 11559...  \n"
     ]
    }
   ],
   "source": [
    "flavor_molecules = pd.read_csv(\"data/flavordb/flavordb.csv\", index_col=0)\n",
    "#convert the two list-like columns to list \"{27457, 7976, 31252, 26808, 22201, 26331}\"\n",
    "flavor_molecules['synonyms'] = flavor_molecules['synonyms'].apply(parse_list_col)\n",
    "flavor_molecules['molecules'] = flavor_molecules['molecules'].apply(parse_list_col)\n",
    "\n",
    "print(flavor_molecules.head())\n",
    "#print(flavor_molecules.describe())"
   ]
  },
  {
   "cell_type": "markdown",
   "id": "468c2da1",
   "metadata": {},
   "source": [
    "### New way to load all data"
   ]
  },
  {
   "cell_type": "code",
   "execution_count": 5,
   "id": "8701c65f",
   "metadata": {},
   "outputs": [],
   "source": [
    "config = dashboard.read_config(\"config.ini\")\n",
    "datastore = dashboard.read_all_data(config)"
   ]
  },
  {
   "cell_type": "markdown",
   "id": "14fec907",
   "metadata": {},
   "source": [
    "### Get info on a selected ingredient"
   ]
  },
  {
   "cell_type": "code",
   "execution_count": 6,
   "id": "118d59e7",
   "metadata": {},
   "outputs": [
    {
     "name": "stdout",
     "output_type": "stream",
     "text": [
      "     entity id             alias                     synonyms scientific name  \\\n",
      "932        972  japanese pumpkin  [kabocha, japanese pumpkin]   winter squash   \n",
      "\n",
      "    category                                          molecules  \n",
      "932    fruit  [644104, 527, 8723, 31260, 15394, 6184, 439341...  \n"
     ]
    }
   ],
   "source": [
    "selected_ingredient = 'japanese pumpkin'\n",
    "#datastore.ingredients['alias'] == selected_ingredient\n",
    "ingredient = datastore.ingredients[datastore.ingredients['alias'] == selected_ingredient]\n",
    "print(ingredient)"
   ]
  },
  {
   "cell_type": "code",
   "execution_count": 7,
   "id": "fad0b659",
   "metadata": {},
   "outputs": [
    {
     "name": "stdout",
     "output_type": "stream",
     "text": [
      "count=0, id=644104, name=CID 644104, flavor profile=['very mild', 'grassy']\n",
      "count=1, id=527, name=Propionaldehyde, flavor profile=['nutty', 'cocoa', 'pungent', 'whiskey', 'earthy', 'solvent', 'wine', 'alcohol']\n",
      "count=2, id=8723, name=2-Methyl-1-Butanol, flavor profile=['onion', 'fruity', 'malt', 'wine', 'roasted']\n",
      "count=3, id=31260, name=3-Methyl-1-butanol, flavor profile=['alcoholic', 'burnt', 'whiskey', 'fruity', 'malt', 'fusel', 'banana', 'oil']\n",
      "count=4, id=15394, name=Ethyl Vinyl Ketone, flavor profile=['mustard', 'garlic', 'onion', 'pungent', 'fish', 'peppery']\n",
      "count=5, id=6184, name=Hexanal, flavor profile=['green', 'fresh', 'leafy', 'aldehydic', 'fat', 'fruity', 'grass', 'sweaty', 'tallow', 'fatty']\n",
      "count=6, id=439341, name=alpha-Maltose, flavor profile=['sweet', 'odorless']\n",
      "count=7, id=5365811, name=4-Hexen-3-One, flavor profile=['tropical', 'green', 'pungent', 'metallic', 'spicy', 'ethereal']\n",
      "count=8, id=6202, name=Thiamine Hydrochloride, flavor profile=['mild', 'sour', 'bitter']\n",
      "count=9, id=638011, name=Citral, flavor profile=['sweet', 'lemon', 'mint', 'sharp', 'bitter', 'citrus']\n",
      "count=10, id=61503, name=D-Lactic acid, flavor profile=['acidic', 'odorless']\n",
      "count=11, id=8768, name=3,4-Dihydroxybenzaldehyde, flavor profile=['almond', 'bitter', 'dry', 'medical']\n",
      "count=12, id=637511, name=cinnamaldehyde, flavor profile=['paint', 'sweet', 'spice', 'cinnamon', 'warm', 'red hots', 'candy', 'clove']\n",
      "count=13, id=72, name=3,4-Dihydroxybenzoic Acid, flavor profile=['mild', 'balsamic', 'phenolic']\n",
      "count=14, id=1110, name=succinic acid, flavor profile=['sour', 'odorless']\n",
      "count=15, id=5280343, name=quercetin, flavor profile=['bitter']\n",
      "count=16, id=61020, name=3-Methyl-2-butenal, flavor profile=['nutty', 'sweet', 'pungent', 'fruity', 'cherry', 'almond', 'brown']\n",
      "count=17, id=5280863, name=kaempferol, flavor profile=['bitter']\n",
      "count=18, id=637542, name=p-coumaric acid, flavor profile=['balsam', 'balsamic']\n",
      "count=19, id=1130, name=thiamine, flavor profile=['bitter']\n",
      "count=20, id=6251, name=D-mannitol, flavor profile=['sweet', 'odorless']\n",
      "count=21, id=107, name=3-Phenylpropanoic acid, flavor profile=['sweet', 'cinnamon', 'balsamic', 'rose', 'musk', 'fatty']\n",
      "count=22, id=7284, name=2-Methylbutyraldehyde, flavor profile=['nutty', 'musty', 'cocoa', 'coffee', 'almond']\n",
      "count=23, id=7288, name=3-Pentanone, flavor profile=['ether', 'ethereal', 'acetone']\n",
      "count=24, id=444539, name=Cinnamic Acid, flavor profile=['sweet', 'balsam', 'honey', 'storax']\n",
      "count=25, id=637566, name=Geraniol, flavor profile=['sweet', 'floral', 'fruity', 'rose', 'waxy', 'citrus', 'geranium']\n",
      "count=26, id=126, name=4-hydroxybenzaldehyde, flavor profile=['nutty', 'sweet', 'balsam', 'almond', 'woody']\n",
      "count=27, id=9862, name=6-Methyl-5-Hepten-2-One, flavor profile=['nutty', 'musty', 'green', 'lemongrass', 'apple', 'mushroom', 'hazelnut', 'bitter', 'pepper', 'citrus', 'rubber']\n",
      "count=28, id=650, name=2,3-butanedione, flavor profile=['sweet', 'creamy', 'caramel', 'pungent', 'butter', 'oily', 'strong']\n",
      "count=29, id=33931, name=2-Ethyl-4-hydroxy-5-methyl-3(2H)-furanone, flavor profile=['caramel', 'butterscotch', 'sweet', 'candy']\n",
      "count=30, id=441484, name=alpha-L-Sorbopyranose, flavor profile=['sweet', 'bitter']\n",
      "count=31, id=445070, name=farnesol, flavor profile=['mild', 'anise', 'sweet', 'lily', 'fresh', 'floral', 'angelica', 'muguet', 'orange', 'balsam', 'linden', 'clove', 'pear', 'waxy', 'grapefruit']\n",
      "count=32, id=5284503, name=trans-3-Hexen-1-ol, flavor profile=['green', 'fresh', 'bitter', 'earthy', 'intensely', 'fatty', 'moss']\n",
      "count=33, id=8857, name=Ethyl Acetate, flavor profile=['sweet', 'anise', 'weedy', 'green', 'fruity', 'pineapple', 'balsam', 'ethereal']\n",
      "count=34, id=10393, name=2-(4-Hydroxyphenyl)ethanol, flavor profile=['mild', 'floral', 'sweet', 'fruity']\n",
      "count=35, id=1183, name=vanillin, flavor profile=['sweet', 'vanilla', 'creamy', 'chocolate']\n",
      "count=36, id=7847, name=Acrolein, flavor profile=['cherry', 'almond']\n",
      "count=37, id=441005, name=(+)-delta-Cadinene, flavor profile=['medicine', 'herbal', 'thyme', 'woody', 'wood', 'dry']\n",
      "count=38, id=7858, name=Allyl Alcohol, flavor profile=['pungent', 'mustard']\n",
      "count=39, id=4788, name=phloretin, flavor profile=['odorless', 'bitter']\n",
      "count=40, id=180, name=acetone, flavor profile=['solvent', 'ethereal', 'pear', 'apple']\n",
      "count=41, id=5280443, name=apigenin, flavor profile=['bitter']\n",
      "count=42, id=5363388, name=cis-3-Hexenyl acetate, flavor profile=['sweet', 'green', 'grassy', 'apple', 'fresh', 'fruity', 'banana']\n",
      "count=43, id=5280445, name=luteolin, flavor profile=['bitter']\n",
      "count=44, id=643779, name=Neral, flavor profile=['lemon peel', 'sweet', 'citral', 'lemon']\n",
      "count=45, id=18635, name=3-(Methylthio)propionaldehyde, flavor profile=['musty', 'creamy', 'cooked potato', 'vegetable', 'peanut', 'earthy', 'fishy', 'tomato', 'potato', 'beef']\n",
      "count=46, id=10448, name=3-methylthiopropanol, flavor profile=['sweet', 'onion', 'vegetable', 'soup', 'potato', 'sulfurous']\n",
      "count=47, id=445154, name=resveratrol, flavor profile=['bitter']\n",
      "count=48, id=1549026, name=Geranyl Acetate, flavor profile=['green', 'lavender', 'floral', 'bitter', 'rose', 'waxy']\n",
      "count=49, id=439533, name=Taxifolin, flavor profile=['bitter']\n",
      "count=50, id=240, name=benzaldehyde, flavor profile=['burnt sugar', 'sweet', 'sharp', 'bitter', 'cherry', 'almond', 'strong']\n",
      "count=51, id=244, name=benzyl alcohol, flavor profile=['sweet', 'berry', 'floral', 'walnut', 'cherry', 'balsamic', 'phenolic', 'rose', 'flower', 'grapefruit']\n",
      "count=52, id=11509, name=3-Hexanone, flavor profile=['rum', 'sweet', 'grape', 'ether', 'fruity', 'waxy']\n",
      "count=53, id=247, name=betaine, flavor profile=['bland']\n",
      "count=54, id=5280511, name=(Z)-cinnamyl alcohol, flavor profile=['sweet', 'green', 'powdery', 'bitter', 'hyacinth', 'balsam', 'cinnamic', 'spicy', 'oil']\n",
      "count=55, id=768, name=hydrogen cyanide, flavor profile=['bitter']\n",
      "count=56, id=8452, name=Cyclopentanone, flavor profile=['minty']\n",
      "count=57, id=784, name=hydrogen peroxide, flavor profile=['bitter']\n",
      "count=58, id=798, name=indole, flavor profile=['moth ball', 'fecal', 'honey', 'burnt', 'jasmine', 'naphthelene', 'floral', 'mothball', 'animal', 'fishy']\n",
      "count=59, id=5284639, name=NSC5112, flavor profile=['bitter']\n",
      "count=60, id=11552, name=3-Methylbutanal, flavor profile=['peach', 'aldehydic', 'malt', 'sour', 'ethereal', 'chocolate', 'fatty']\n",
      "count=61, id=802, name=indole-3-acetic acid, flavor profile=['mild', 'sour', 'odorless']\n",
      "count=62, id=2345, name=Benzyl Benzoate, flavor profile=['sweet', 'strawberry', 'cherry', 'pineapple', 'balsamic', 'oily', 'balsam', 'herb', 'cheese', 'herbal', 'almond', 'oil', 'faint']\n",
      "count=63, id=5315892, name=cinnamyl alcohol, flavor profile=['sweet', 'green', 'powdery', 'bitter', 'hyacinth', 'balsam', 'cinnamic', 'spicy']\n",
      "count=64, id=323, name=coumarin, flavor profile=['sweet', 'green', 'bitter', 'tonka', 'new mown hay']\n",
      "count=65, id=638278, name=isoliquiritigenin, flavor profile=['bitter']\n",
      "count=66, id=6986, name=2-Isopropyl-5-methylcyclohexanone, flavor profile=['sweet', 'minty', 'green', 'mint', 'fresh', 'peppermint', 'cool']\n",
      "count=67, id=26447, name=Menthone, flavor profile=['deep', 'bitter', 'peppermint', 'herbal', 'raspberry', 'menthol', 'camphoraceous', 'camphor']\n",
      "count=68, id=637775, name=Sinapic Acid, flavor profile=['odorless']\n",
      "count=69, id=338, name=salicylic acid, flavor profile=['nutty', 'phenolic', 'faint']\n",
      "count=70, id=5280598, name=Farnesal, flavor profile=['floral', 'minty']\n",
      "count=71, id=13144, name=calcium lactate, flavor profile=['odorless']\n",
      "count=72, id=1889, name=DL-Liquiritigenin, flavor profile=['bitter']\n",
      "count=73, id=643941, name=cis-3-Hexenal, flavor profile=['weedy', 'green', 'grassy', 'apple', 'leaf', 'fruity', 'fatty']\n",
      "count=74, id=9064, name=Cianidanol, flavor profile=['bitter']\n",
      "count=75, id=876, name=Dl-Methionine, flavor profile=['mild', 'acidic', 'sulfurous']\n",
      "count=76, id=878, name=methanethiol, flavor profile=['gasoline', 'decomposing cabbage', 'sulfur', 'garlic']\n",
      "count=77, id=11128, name=Linamarin, flavor profile=['bitter']\n",
      "count=78, id=5318042, name=trans-2-Hexen-1-Ol, flavor profile=['unripe banana', 'green', 'fresh', 'leaf', 'fruit', 'leafy', 'walnut', 'fruity', 'pepper', 'wine', 'alcohol']\n",
      "count=79, id=8094, name=Heptanoic Acid, flavor profile=['rancid', 'sour', 'cheese', 'sweat', 'cheesy']\n",
      "count=80, id=6561, name=Isobutyraldehyde, flavor profile=['green', 'fresh', 'pungent', 'floral', 'malt', 'aldehydic']\n",
      "count=81, id=6050, name=Tributyrin, flavor profile=['creamy', 'bitter', 'cheese', 'waxy', 'fatty']\n",
      "count=82, id=6054, name=2-Phenylethanol, flavor profile=['spice', 'rose dried', 'honey', 'floral', 'lilac', 'bitter', 'rose', 'rose water', 'rose flower']\n",
      "count=83, id=5367719, name=Methyl jasmonate, flavor profile=['melon', 'jasmine', 'fresh', 'floral', 'petal', 'oily', 'waxy', 'magnolia']\n",
      "count=84, id=6569, name=2-Butanone, flavor profile=['acetone', 'ether', 'fruity', 'ethereal', 'camphor']\n",
      "count=85, id=5281708, name=daidzein, flavor profile=['bitter']\n",
      "count=86, id=6072, name=Phlorizin, flavor profile=['bitter']\n",
      "count=87, id=853433, name=Isoeugenol, flavor profile=['sweet', 'floral', 'phenolic', 'spicy', 'flower', 'clove', 'carnation', 'woody']\n",
      "count=88, id=79803, name=1-Pyrroline, flavor profile=['shrimp', 'ammoniacal']\n",
      "count=89, id=8130, name=Heptanal, flavor profile=['green', 'wine-lee', 'fresh', 'rancid', 'ozone', 'fat', 'citrus', 'herbal', 'aldehydic', 'fatty']\n",
      "count=90, id=107971, name=Daidzin, flavor profile=['bitter']\n",
      "count=91, id=454, name=Octanal, flavor profile=['lemon', 'green', 'fat', 'soap', 'citrus', 'aldehydic', 'orange peel', 'waxy', 'fatty']\n",
      "count=92, id=439246, name=naringenin, flavor profile=['bitter']\n",
      "count=93, id=439263, name=(+)-Neomenthol, flavor profile=['mentholic', 'sweet', 'minty', 'camphoraceous']\n",
      "count=94, id=994, name=Dl-Phenylalanine, flavor profile=['odorless']\n",
      "count=95, id=7654, name=Phenethyl acetate, flavor profile=['sweet', 'honey', 'tropical', 'tobacco', 'floral', 'fruity', 'rose']\n",
      "count=96, id=999, name=Phenylacetic Acid, flavor profile=['sweet', 'honey', 'civet', 'floral', 'sour', 'flower', 'waxy', 'honeysuckle']\n",
      "count=97, id=998, name=phenylacetaldehyde, flavor profile=['sweet', 'honey', 'green', 'cocoa', 'floral', 'hawthorne', 'peanut', 'hyacinth', 'bitter', 'clover', 'grapefruit']\n",
      "count=98, id=7150, name=Methyl Benzoate, flavor profile=['sweet', 'prune', 'cananga', 'lettuce', 'floral', 'phenolic', 'herb', 'almond', 'wintergreen']\n",
      "count=99, id=89594, name=nicotine, flavor profile=['bitter']\n"
     ]
    }
   ],
   "source": [
    "ingredient_flavor_molecules = ingredient['molecules'].iloc[0]\n",
    "ingredient_flavor_molecules\n",
    "\n",
    "for i, id in enumerate(ingredient_flavor_molecules):\n",
    "    # fetch flavor molecules\n",
    "    fm = datastore.flavor_molecules[datastore.flavor_molecules['pubchem id'] == id]\n",
    "    print(f'''count={i}, id={id}, name={fm.iloc[0, 1]}, flavor profile={fm.iloc[0, 2]}''')\n",
    "\n"
   ]
  },
  {
   "cell_type": "code",
   "execution_count": 8,
   "id": "47e8b3c3",
   "metadata": {},
   "outputs": [
    {
     "data": {
      "text/html": [
       "<div>\n",
       "<style scoped>\n",
       "    .dataframe tbody tr th:only-of-type {\n",
       "        vertical-align: middle;\n",
       "    }\n",
       "\n",
       "    .dataframe tbody tr th {\n",
       "        vertical-align: top;\n",
       "    }\n",
       "\n",
       "    .dataframe thead th {\n",
       "        text-align: right;\n",
       "    }\n",
       "</style>\n",
       "<table border=\"1\" class=\"dataframe\">\n",
       "  <thead>\n",
       "    <tr style=\"text-align: right;\">\n",
       "      <th></th>\n",
       "      <th>pubchem id</th>\n",
       "      <th>common name</th>\n",
       "      <th>flavor profile</th>\n",
       "    </tr>\n",
       "  </thead>\n",
       "  <tbody>\n",
       "    <tr>\n",
       "      <th>1397</th>\n",
       "      <td>644104</td>\n",
       "      <td>CID 644104</td>\n",
       "      <td>[very mild, grassy]</td>\n",
       "    </tr>\n",
       "  </tbody>\n",
       "</table>\n",
       "</div>"
      ],
      "text/plain": [
       "      pubchem id common name       flavor profile\n",
       "1397      644104  CID 644104  [very mild, grassy]"
      ]
     },
     "execution_count": 8,
     "metadata": {},
     "output_type": "execute_result"
    }
   ],
   "source": [
    "id = 644104\n",
    "datastore.flavor_molecules['pubchem id'] == id\n",
    "fm = datastore.flavor_molecules[datastore.flavor_molecules['pubchem id'] == id]\n",
    "fm"
   ]
  },
  {
   "cell_type": "markdown",
   "id": "0b3cf6c0",
   "metadata": {},
   "source": [
    "### Tabulator"
   ]
  },
  {
   "cell_type": "code",
   "execution_count": 21,
   "id": "4fa23c3b",
   "metadata": {},
   "outputs": [
    {
     "data": {
      "application/vnd.jupyter.widget-view+json": {
       "model_id": "fc152ecf24224ceb87eb885e3afa4da3",
       "version_major": 2,
       "version_minor": 0
      },
      "text/plain": [
       "BokehModel(combine_events=True, render_bundle={'docs_json': {'11ac2feb-c328-4e69-904d-fee39c7ca780': {'version…"
      ]
     },
     "execution_count": 21,
     "metadata": {},
     "output_type": "execute_result"
    },
    {
     "name": "stdout",
     "output_type": "stream",
     "text": [
      "CellClickEvent(column=str, row=0, value=A)\n",
      "CellClickEvent(column=date, row=1, value=2020-01-01)\n",
      "CellClickEvent(column=date, row=0, value=2019-01-01)\n",
      "CellClickEvent(column=bool, row=1, value=False)\n",
      "CellClickEvent(column=str, row=2, value=C)\n",
      "CellClickEvent(column=float, row=2, value=9.42)\n",
      "CellClickEvent(column=datetime, row=2, value=2020-01-10 13:00:00)\n",
      "CellClickEvent(column=date, row=1, value=2020-01-01)\n",
      "CellClickEvent(column=float, row=0, value=3.14)\n"
     ]
    }
   ],
   "source": [
    "import datetime as dt\n",
    "\n",
    "tabulator_editors = {\n",
    "    'int': None,\n",
    "    'float': None,\n",
    "    'bool': None,\n",
    "    'str': None,\n",
    "    'date': None,\n",
    "    'datetime': None\n",
    "}\n",
    "\n",
    "df = pd.DataFrame({\n",
    "    'int': [1, 2, 3],\n",
    "    'float': [3.14, 6.28, 9.42],\n",
    "    'str': ['A', 'B', 'C'],\n",
    "    'bool': [True, False, True],\n",
    "    'date': [dt.date(2019, 1, 1), dt.date(2020, 1, 1), dt.date(2020, 1, 10)],\n",
    "    'datetime': [dt.datetime(2019, 1, 1, 10), dt.datetime(2020, 1, 1, 12), dt.datetime(2020, 1, 10, 13)]\n",
    "}, index=[1, 2, 3])\n",
    "\n",
    "df_widget = pn.widgets.Tabulator(df, editors = tabulator_editors)\n",
    "df_widget.on_click(print)\n",
    "df_widget"
   ]
  },
  {
   "cell_type": "code",
   "execution_count": 78,
   "id": "64532e98",
   "metadata": {},
   "outputs": [
    {
     "data": {
      "application/vnd.jupyter.widget-view+json": {
       "model_id": "703048b6c9e14ad7a08c865fe7988ee2",
       "version_major": 2,
       "version_minor": 0
      },
      "text/plain": [
       "BokehModel(combine_events=True, render_bundle={'docs_json': {'4758ce4e-1ec6-4e8e-a5e8-e636131ab2db': {'version…"
      ]
     },
     "execution_count": 78,
     "metadata": {},
     "output_type": "execute_result"
    },
    {
     "name": "stdout",
     "output_type": "stream",
     "text": [
      "click event, value=1130, column=pubchem_id, row=0\n"
     ]
    }
   ],
   "source": [
    "import param\n",
    "import utils\n",
    "from bokeh.models.widgets.tables import NumberFormatter\n",
    "\n",
    "def create_flavor_molecules_table():\n",
    "    flavor_molecules = list()\n",
    "    flavor_molecules.append(utils.FlavorMolecule(1130, 'thiamin', ['bitter']))\n",
    "    flavor_molecules.append(utils.FlavorMolecule(8094, 'Heptanoic acid', ['rancid', 'sour', 'cheese']))\n",
    "    fm_df = pd.DataFrame(flavor_molecules)\n",
    "    fm_df = fm_df.set_index('pubchem_id')\n",
    "    #print(fm_df)\n",
    "    table_editors = {'pubchem_id': None, 'common_name': None, 'flavor_profile': None}\n",
    "    formatters = {'pubchem_id': NumberFormatter(format='0[.]0')}\n",
    "    tabulator = pn.widgets.Tabulator(fm_df, editors = table_editors, formatters=formatters)\n",
    "    tabulator.on_click(update_fl_mol)\n",
    "    return tabulator\n",
    "\n",
    "def update_fl_mol(event):\n",
    "    print(f'click event, value={event.value}, column={event.column}, row={event.row}')\n",
    "    if event.column == 'pubchem_id':\n",
    "        fl_mol.value = str(event.value)\n",
    "\n",
    "def get_flavor_molecule_details(selected_flavor_molecule):\n",
    "    return pn.widgets.TextInput(name='Selected Flavor Molecule', value=str(selected_flavor_molecule))\n",
    "\n",
    "fl_mol = pn.widgets.TextInput(name='Selected Flavor Molecule', value=str(644104))\n",
    "\n",
    "# flavor_molecule_details = pn.bind(get_flavor_molecule_details, fm.param.flavor_molecule)\n",
    "pn.Column(fl_mol, create_flavor_molecules_table())#, flavor_molecule_details)\n",
    "\n",
    "## THIS WORKS"
   ]
  },
  {
   "cell_type": "code",
   "execution_count": 77,
   "id": "8fdff22c",
   "metadata": {},
   "outputs": [
    {
     "data": {
      "application/vnd.jupyter.widget-view+json": {
       "model_id": "cc029b7b6fd041e7b946b27b71f0db3d",
       "version_major": 2,
       "version_minor": 0
      },
      "text/plain": [
       "BokehModel(combine_events=True, render_bundle={'docs_json': {'d743e047-5f83-4d8c-89ed-1864bb2a31a8': {'version…"
      ]
     },
     "execution_count": 77,
     "metadata": {},
     "output_type": "execute_result"
    },
    {
     "name": "stdout",
     "output_type": "stream",
     "text": [
      "param value: 1130, event: Event(what='value', name='flavor_molecule', obj=FlavorMoleculeParam(flavor_molecule=1130, name='FlavorMoleculeParam00520'), cls=FlavorMoleculeParam(flavor_molecule=1130, name='FlavorMoleculeParam00520'), old=644104, new=1130, type='changed')\n",
      "param value: 8094, event: Event(what='value', name='flavor_molecule', obj=FlavorMoleculeParam(flavor_molecule=8094, name='FlavorMoleculeParam00520'), cls=FlavorMoleculeParam(flavor_molecule=8094, name='FlavorMoleculeParam00520'), old=1130, new=8094, type='changed')\n"
     ]
    }
   ],
   "source": [
    "import param\n",
    "import utils\n",
    "from bokeh.models.widgets.tables import NumberFormatter\n",
    "\n",
    "def create_flavor_molecules_table():\n",
    "    flavor_molecules = list()\n",
    "    flavor_molecules.append(utils.FlavorMolecule(1130, 'thiamin', ['bitter']))\n",
    "    flavor_molecules.append(utils.FlavorMolecule(8094, 'Heptanoic acid', ['rancid', 'sour', 'cheese']))\n",
    "    fm_df = pd.DataFrame(flavor_molecules)\n",
    "    fm_df = fm_df.set_index('pubchem_id')\n",
    "    #print(fm_df)\n",
    "    table_editors = {'pubchem_id': None, 'common_name': None, 'flavor_profile': None}\n",
    "    formatters = {'pubchem_id': NumberFormatter(format='0[.]0')}\n",
    "    tabulator = pn.widgets.Tabulator(fm_df, editors = table_editors, formatters=formatters)\n",
    "    tabulator.on_click(update_flavor_molecule_param)\n",
    "    return tabulator\n",
    "\n",
    "def update_flavor_molecule_param(event):\n",
    "    #print(f'event: value={event.value}, column={event.column}, row={event.row}')\n",
    "    if event.column == 'pubchem_id':\n",
    "        fm.flavor_molecule = event.value\n",
    "\n",
    "class FlavorMoleculeParam(param.Parameterized):\n",
    "    flavor_molecule = param.Number(default=644104) #CID 644104\n",
    "\n",
    "fm = FlavorMoleculeParam()\n",
    "#print(fm.flavor_molecule)\n",
    "\n",
    "fl_mol = pn.widgets.TextInput(name='Selected Flavor Molecule', value=str(644104))\n",
    "\n",
    "def update_flavor_molecule_details(event):\n",
    "    print(f'param value: {fm.flavor_molecule}, event: {event}')\n",
    "    fl_mol.value = str(fm.flavor_molecule)\n",
    "\n",
    "fm.param.watch(update_flavor_molecule_details, 'flavor_molecule')\n",
    "\n",
    "# flavor_molecule_details = pn.bind(get_flavor_molecule_details, fm.param.flavor_molecule)\n",
    "pn.Column(fl_mol, create_flavor_molecules_table())#, flavor_molecule_details)\n",
    "\n"
   ]
  }
 ],
 "metadata": {
  "kernelspec": {
   "display_name": "education",
   "language": "python",
   "name": "education"
  },
  "language_info": {
   "codemirror_mode": {
    "name": "ipython",
    "version": 3
   },
   "file_extension": ".py",
   "mimetype": "text/x-python",
   "name": "python",
   "nbconvert_exporter": "python",
   "pygments_lexer": "ipython3",
   "version": "3.9.16"
  }
 },
 "nbformat": 4,
 "nbformat_minor": 5
}
